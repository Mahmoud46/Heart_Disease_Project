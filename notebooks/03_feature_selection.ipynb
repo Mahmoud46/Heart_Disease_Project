{
 "cells": [
  {
   "cell_type": "code",
   "execution_count": 2,
   "id": "7477122d",
   "metadata": {},
   "outputs": [],
   "source": [
    "import pandas as pd\n",
    "from sklearn.ensemble import RandomForestClassifier\n",
    "from sklearn.feature_selection import RFE, chi2\n",
    "import matplotlib.pyplot as plt\n",
    "import seaborn as sns"
   ]
  },
  {
   "cell_type": "code",
   "execution_count": 3,
   "id": "ac2370f4",
   "metadata": {},
   "outputs": [],
   "source": [
    "# Load cleaned data\n",
    "train_data = pd.read_csv('../data/cleaned_dataset/cleaned_standardized_train_data.csv')\n",
    "test_data = pd.read_csv('../data/cleaned_dataset/cleaned_standardized_test_data.csv')"
   ]
  },
  {
   "cell_type": "code",
   "execution_count": 4,
   "id": "fccd48fb",
   "metadata": {},
   "outputs": [],
   "source": [
    "# Split loaded data into data and target\n",
    "X_train = train_data[train_data.columns[:-1]]\n",
    "y_train = train_data['goal']\n",
    "\n",
    "X_test = test_data[test_data.columns[:-1]]\n",
    "y_test = test_data['goal']"
   ]
  },
  {
   "cell_type": "code",
   "execution_count": 5,
   "id": "0dde2aa3",
   "metadata": {},
   "outputs": [],
   "source": [
    "# Convert train and test data to array\n",
    "X_train_scaled = X_train.to_numpy()\n",
    "X_test_scaled = X_test.to_numpy()"
   ]
  },
  {
   "cell_type": "markdown",
   "id": "17ba49cd",
   "metadata": {},
   "source": [
    "### Use Feature Importance (Random Forest / XGBoost feature importance scores) to rank variables."
   ]
  },
  {
   "cell_type": "code",
   "execution_count": 7,
   "id": "acbd8e28",
   "metadata": {},
   "outputs": [
    {
     "data": {
      "text/html": [
       "<div>\n",
       "<style scoped>\n",
       "    .dataframe tbody tr th:only-of-type {\n",
       "        vertical-align: middle;\n",
       "    }\n",
       "\n",
       "    .dataframe tbody tr th {\n",
       "        vertical-align: top;\n",
       "    }\n",
       "\n",
       "    .dataframe thead th {\n",
       "        text-align: right;\n",
       "    }\n",
       "</style>\n",
       "<table border=\"1\" class=\"dataframe\">\n",
       "  <thead>\n",
       "    <tr style=\"text-align: right;\">\n",
       "      <th></th>\n",
       "      <th>Feature</th>\n",
       "      <th>Importance</th>\n",
       "    </tr>\n",
       "  </thead>\n",
       "  <tbody>\n",
       "    <tr>\n",
       "      <th>18</th>\n",
       "      <td>ca_0.0</td>\n",
       "      <td>0.120893</td>\n",
       "    </tr>\n",
       "    <tr>\n",
       "      <th>5</th>\n",
       "      <td>thalach</td>\n",
       "      <td>0.093793</td>\n",
       "    </tr>\n",
       "    <tr>\n",
       "      <th>7</th>\n",
       "      <td>oldpeak</td>\n",
       "      <td>0.092372</td>\n",
       "    </tr>\n",
       "    <tr>\n",
       "      <th>3</th>\n",
       "      <td>chol</td>\n",
       "      <td>0.088257</td>\n",
       "    </tr>\n",
       "    <tr>\n",
       "      <th>0</th>\n",
       "      <td>age</td>\n",
       "      <td>0.079385</td>\n",
       "    </tr>\n",
       "    <tr>\n",
       "      <th>11</th>\n",
       "      <td>cp_4.0</td>\n",
       "      <td>0.078689</td>\n",
       "    </tr>\n",
       "    <tr>\n",
       "      <th>24</th>\n",
       "      <td>thal_7.0</td>\n",
       "      <td>0.074801</td>\n",
       "    </tr>\n",
       "    <tr>\n",
       "      <th>2</th>\n",
       "      <td>trestbps</td>\n",
       "      <td>0.072693</td>\n",
       "    </tr>\n",
       "    <tr>\n",
       "      <th>22</th>\n",
       "      <td>thal_3.0</td>\n",
       "      <td>0.056854</td>\n",
       "    </tr>\n",
       "    <tr>\n",
       "      <th>6</th>\n",
       "      <td>exang</td>\n",
       "      <td>0.036564</td>\n",
       "    </tr>\n",
       "    <tr>\n",
       "      <th>1</th>\n",
       "      <td>sex</td>\n",
       "      <td>0.031933</td>\n",
       "    </tr>\n",
       "    <tr>\n",
       "      <th>15</th>\n",
       "      <td>slope_1.0</td>\n",
       "      <td>0.024797</td>\n",
       "    </tr>\n",
       "    <tr>\n",
       "      <th>10</th>\n",
       "      <td>cp_3.0</td>\n",
       "      <td>0.024264</td>\n",
       "    </tr>\n",
       "    <tr>\n",
       "      <th>19</th>\n",
       "      <td>ca_1.0</td>\n",
       "      <td>0.021900</td>\n",
       "    </tr>\n",
       "  </tbody>\n",
       "</table>\n",
       "</div>"
      ],
      "text/plain": [
       "      Feature  Importance\n",
       "18     ca_0.0    0.120893\n",
       "5     thalach    0.093793\n",
       "7     oldpeak    0.092372\n",
       "3        chol    0.088257\n",
       "0         age    0.079385\n",
       "11     cp_4.0    0.078689\n",
       "24   thal_7.0    0.074801\n",
       "2    trestbps    0.072693\n",
       "22   thal_3.0    0.056854\n",
       "6       exang    0.036564\n",
       "1         sex    0.031933\n",
       "15  slope_1.0    0.024797\n",
       "10     cp_3.0    0.024264\n",
       "19     ca_1.0    0.021900"
      ]
     },
     "execution_count": 7,
     "metadata": {},
     "output_type": "execute_result"
    }
   ],
   "source": [
    "# Apply model on training data\n",
    "rf = RandomForestClassifier(random_state=42)\n",
    "rf.fit(X_train_scaled, y_train)\n",
    "\n",
    "# Get feature importance (using only training features)\n",
    "feature_importance = rf.feature_importances_\n",
    "feature_names = X_train.columns\n",
    "importance_df = pd.DataFrame({\n",
    "    'Feature': feature_names,\n",
    "    'Importance': feature_importance\n",
    "}).sort_values(by='Importance', ascending=False)\n",
    "importance_df.head(14)"
   ]
  },
  {
   "cell_type": "markdown",
   "id": "b5f1a183",
   "metadata": {},
   "source": [
    "### Apply Recursive Feature Elimination (RFE) to select the best predictors."
   ]
  },
  {
   "cell_type": "code",
   "execution_count": 8,
   "id": "5ccbc6f3",
   "metadata": {},
   "outputs": [
    {
     "name": "stdout",
     "output_type": "stream",
     "text": [
      "Selected Features: ['age', 'sex', 'trestbps', 'chol', 'thalach', 'exang', 'oldpeak', 'cp_3.0', 'cp_4.0', 'slope_1.0', 'slope_2.0', 'ca_0.0', 'thal_3.0', 'thal_7.0']\n"
     ]
    }
   ],
   "source": [
    "# Initialize model\n",
    "estimator = RandomForestClassifier(n_estimators=100, random_state=42)\n",
    "\n",
    "# Apply RFE to select top 14 features\n",
    "rfe = RFE(estimator=estimator, n_features_to_select=14)\n",
    "rfe.fit(X_train_scaled, y_train)\n",
    "\n",
    "# Mask of selected features\n",
    "selected_mask = rfe.support_\n",
    "\n",
    "# Get feature names\n",
    "selected_features = X_train.columns[selected_mask]\n",
    "print(\"Selected Features:\", list(selected_features))"
   ]
  },
  {
   "cell_type": "code",
   "execution_count": 9,
   "id": "cbec34eb",
   "metadata": {},
   "outputs": [],
   "source": [
    "# Save Reduced dataset\n",
    "pd.concat([train_data[selected_features], y_train], axis=1).to_csv('../data/reduced_dataset/reduced_train_data.csv', index=False)\n",
    "pd.concat([test_data[selected_features], y_test], axis=1).to_csv('../data/reduced_dataset/reduced_test_data.csv', index=False)"
   ]
  },
  {
   "cell_type": "markdown",
   "id": "92ad35c2",
   "metadata": {},
   "source": [
    "### Chi-Square Test to check feature significance."
   ]
  },
  {
   "cell_type": "code",
   "execution_count": 10,
   "id": "c06b3fa8",
   "metadata": {},
   "outputs": [
    {
     "name": "stdout",
     "output_type": "stream",
     "text": [
      "      Feature  Chi2 Score       p-value\n",
      "13   thal_7.0   30.956508  2.638757e-08\n",
      "8      cp_4.0   27.275747  1.764103e-07\n",
      "5       exang   26.504566  2.629160e-07\n",
      "11     ca_0.0   26.431930  2.729903e-07\n",
      "12   thal_3.0   26.391664  2.787408e-07\n",
      "7      cp_3.0   17.179577  3.400728e-05\n",
      "9   slope_1.0   15.010856  1.068945e-04\n",
      "10  slope_2.0   13.571285  2.296721e-04\n",
      "6     oldpeak    8.998320  2.702279e-03\n",
      "1         sex    5.326931  2.099832e-02\n",
      "4     thalach    2.010327  1.562317e-01\n",
      "0         age    0.739668  3.897672e-01\n",
      "2    trestbps    0.581575  4.456955e-01\n",
      "3        chol    0.161675  6.876193e-01\n"
     ]
    }
   ],
   "source": [
    "chi2_scores, p_values = chi2(X_train[selected_features], y_train)\n",
    "\n",
    "# Combine results\n",
    "chi2_results = pd.DataFrame({\n",
    "    'Feature': selected_features,\n",
    "    'Chi2 Score': chi2_scores,\n",
    "    'p-value': p_values\n",
    "}).sort_values(by='Chi2 Score', ascending=False)\n",
    "\n",
    "print(chi2_results)"
   ]
  },
  {
   "cell_type": "markdown",
   "id": "9e172046",
   "metadata": {},
   "source": [
    "### Feature importance ranking visualization"
   ]
  },
  {
   "cell_type": "code",
   "execution_count": 11,
   "id": "0a2e4c95",
   "metadata": {},
   "outputs": [
    {
     "data": {
      "image/png": "[encoded data removed]",
      "text/plain": [
       "<Figure size 720x432 with 1 Axes>"
      ]
     },
     "metadata": {
      "needs_background": "light"
     },
     "output_type": "display_data"
    }
   ],
   "source": [
    "plt.figure(figsize=(10, 6))\n",
    "sns.barplot(data=importance_df, x='Importance', y='Feature', palette='viridis')\n",
    "plt.title('Feature Importance Ranking')\n",
    "plt.xlabel('Importance Score')\n",
    "plt.ylabel('Feature')\n",
    "plt.tight_layout()\n",
    "plt.show()"
   ]
  }
 ],
 "metadata": {
  "kernelspec": {
   "display_name": "Python 3",
   "language": "python",
   "name": "python3"
  },
  "language_info": {
   "codemirror_mode": {
    "name": "ipython",
    "version": 3
   },
   "file_extension": ".py",
   "mimetype": "text/x-python",
   "name": "python",
   "nbconvert_exporter": "python",
   "pygments_lexer": "ipython3",
   "version": "3.10.7"
  }
 },
 "nbformat": 4,
 "nbformat_minor": 5
}
